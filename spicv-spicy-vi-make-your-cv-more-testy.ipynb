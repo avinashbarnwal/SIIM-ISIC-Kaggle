{
 "cells": [
  {
   "cell_type": "markdown",
   "execution_count": null,
   "metadata": {},
   "source": [
    "In this notebook I'll make an attempt to anser the following question\n",
    "\n",
    "# How can we improve the CV estimation of a metric when the train and the test data distributions are not the same?"
   ]
  },
  {
   "cell_type": "markdown",
   "execution_count": null,
   "metadata": {},
   "source": [
    "In many cases a metric can be tought as an expected value over the joint distribution of $\\large X, Y$, indicated by $\\large P(X, Y)$\n",
    "\n",
    "$\\large M = \\int m(x, y) dP(x, y)$\n",
    "\n",
    "If we have a finite sample from $\\large P(X, Y)$ indicated as $\\large D = \\{x_i, y_i\\}_{i=1}^N$, we can approximate $\\large M$ using the **Monte Carlo method**\n",
    "\n",
    "$\\large \\hat{M}^{D}_{MC} = \\frac{1}{N} \\sum_{i=1}^N m(x_i, y_i)$"
   ]
  },
  {
   "cell_type": "markdown",
   "execution_count": null,
   "metadata": {},
   "source": [
    "# The nail: train and test data distributions are not the same"
   ]
  },
  {
   "cell_type": "markdown",
   "execution_count": null,
   "metadata": {},
   "source": [
    "i.e. $\\large P_{train}(X, Y) \\neq P_{test}(X, Y)$\n",
    "\n",
    "Sadly enough the train and the test data distributions are not always the same (thanks Kaggle), so using held out training data can produce a biased estimation of the metric on the test distribution.\n",
    "\n",
    "Can we do something about it? **Yes!**"
   ]
  },
  {
   "cell_type": "markdown",
   "execution_count": null,
   "metadata": {},
   "source": [
    "# The hammer 🔨: importance sampling"
   ]
  },
  {
   "cell_type": "markdown",
   "execution_count": null,
   "metadata": {},
   "source": [
    "We can use a techinque called **importance sampling** to adjust the Monte Carlo estimation with a correction factor given by the density ratio between the two distributions\n",
    "\n",
    "$\\large \\hat{M}_{IS}^{test} = \\frac{1}{N} \\sum_{i=1}^N m(x_i, y_i) \\frac{p_{test}(x_i, y_i)}{p_{train}(x_i, y_i)}$\n",
    "\n",
    "where $\\large (x_i, y_i)$ are sampled from $\\large P_{train}(X, Y)$\n",
    " \n",
    "If $\\large P_{train}(X, Y) > 0$ almost everywhere $\\large P_{test}(X, Y) > 0$ this estimator should be unbiased. In simpler terms, we need to have training examples from all over the test distribution to make a correct estimation.\n",
    "\n",
    "But estimating a joint distribution is really hard, especially for non-tabular data... and it is impossible for the test set since we don't have the target variable 😅"
   ]
  },
  {
   "cell_type": "markdown",
   "execution_count": null,
   "metadata": {},
   "source": [
    "## Hypotesys: the conditional distributions of the target variable are the same"
   ]
  },
  {
   "cell_type": "markdown",
   "execution_count": null,
   "metadata": {},
   "source": [
    "We suppose that, given a point $\\large x$, the conditional distribution of $\\large y$ is the same for training and test data, i.e.\n",
    "\n",
    "$\\large P_{train}(Y|X) = P_{test}(Y|X)$\n",
    "\n",
    "Then, using the **chain rule**, we can rewrite the Monte Carlo importance sampling formula as\n",
    "\n",
    "$\\large \\hat{M}_{IS}^{test} = \\frac{1}{N} \\sum_{i=1}^N m(x_i, y_i) \\frac{p_{test}(x_i)}{p_{train}(x_i)}$\n",
    "\n",
    "Then all we have to do is to estimate the ratio of densities for $\\large x$, much easier 😉\n",
    "\n",
    "We can ironically call this correction factor '*testiness*', since it indicates how much an observation is useful to estimate the real value of the metric on the test distribution and how much more likely it is to be sampled from the test distribution rather then the train one. "
   ]
  },
  {
   "cell_type": "markdown",
   "execution_count": null,
   "metadata": {},
   "source": [
    "## Estimating the density ratio"
   ]
  },
  {
   "cell_type": "markdown",
   "execution_count": null,
   "metadata": {},
   "source": [
    "We can train a learner $\\large L$ to predict wheter a point $\\large x$ is from the train or the test distribution\n",
    "\n",
    "Then,  appling the **Bayes theorem** on $\\mathbb{P}(Test|x)$, we can prove that\n",
    "\n",
    "$\\Large \\frac{\\mathbb{P}(x|Test)}{\\mathbb{P}(x|Train)} = \\frac{\\mathbb{P}(Test|x)}{\\mathbb{P}(Train|x)} \\frac{\\mathbb{P}(Train)}{\\mathbb{P}(Test)}$\n",
    "\n",
    "Using the trained learner $\\large L$ to estimate $\\large \\mathbb{P}(Test|x) \\approx L(x)$, we obtain\n",
    "\n",
    "$\\Large \\frac{\\mathbb{P}(x|Test)}{\\mathbb{P}(x|Train)} \\approx \\frac{L(x)}{1 - L(x)} \\frac{ \\mathbb{P}(Train)}{\\mathbb{P}(Test)}$"
   ]
  },
  {
   "cell_type": "markdown",
   "execution_count": null,
   "metadata": {},
   "source": [
    "## Final result"
   ]
  },
  {
   "cell_type": "markdown",
   "execution_count": null,
   "metadata": {},
   "source": [
    "Replacing the previous expression on the importance sampling formula we obtain\n",
    "\n",
    "$\\large \\hat{M}_{L}^{test} = \\frac{1}{N} \\sum_{i=1}^N m(x_i, y_i) \\frac{L(x_i) }{1 - L(x_i)} \\frac{\\mathbb{P}(Train)}{\\mathbb{P}(Test)}$\n",
    "\n",
    "where $\\large (x_i, y_i)$ are sampled from the train distribution"
   ]
  },
  {
   "cell_type": "markdown",
   "execution_count": null,
   "metadata": {},
   "source": [
    "# Application to this competition\n",
    "\n",
    "\n",
    "I'll try to use the described technique to improve the CV estimation done in this nice [notebook](https://www.kaggle.com/cdeotte/triple-stratified-kfold-with-tfrecords). The CV AUC is equal to about 0.904, but the LB AUC is equal to 0.9454. This gap is quite big and confusing.\n",
    "\n",
    "The AUC can be represented as a double integral multiplied by a constant\n",
    "\n",
    "$AUC = C \\int \\int \\mathbb{1}[pred(x_0) < pred(x_1)] \\ dp(x_0) \\ dp(x_1)$\n",
    "\n",
    "so the previous resoning can be similarly applied.\n",
    "\n",
    "Is important to note that, as pointed [here](https://www.kaggle.com/c/siim-isic-melanoma-classification/discussion/168028), there are regions of the space that contain no train images but test ones, so the importance sampling estimate is still biased, but should be more accurate than the CV one.\n",
    "\n",
    "To avoid overfitting the '*testiness*' will be estimated on the hold out data with repeated k-fold splits, using calibrated XGBoost classifiers.\n",
    "\n",
    "Then, we can simply pass the '*testiness*' as '*sample_weight*' of the chosen sklearn metric (in this case AUC)"
   ]
  },
  {
   "cell_type": "markdown",
   "execution_count": null,
   "metadata": {},
   "source": [
    "### Data reading"
   ]
  },
  {
   "cell_type": "code",
   "execution_count": 1,
   "metadata": {
    "_cell_guid": "79c7e3d0-c299-4dcb-8224-4455121ee9b0",
    "_uuid": "d629ff2d2480ee46fbb7e2d37f6b5fab8052498a"
   },
   "outputs": [],
   "source": [
    "import numpy as np\n",
    "import pandas as pd\n",
    "import matplotlib.pyplot as plt\n",
    "from matplotlib import colors\n",
    "from sklearn import metrics, datasets, model_selection, linear_model, calibration\n",
    "import xgboost, lightgbm\n",
    "from tqdm import tqdm\n",
    "\n",
    "import tensorflow as tf\n",
    "from tensorflow import keras\n",
    "from tensorflow.keras import backend as K"
   ]
  },
  {
   "cell_type": "code",
   "execution_count": 2,
   "metadata": {},
   "outputs": [],
   "source": [
    "AUTO = tf.data.experimental.AUTOTUNE\n",
    "\n",
    "def read_labeled_tfrecord(example):\n",
    "    tfrec_format = {\n",
    "        'image'                        : tf.io.FixedLenFeature([], tf.string),\n",
    "        'image_name'                   : tf.io.FixedLenFeature([], tf.string),\n",
    "        'patient_id'                   : tf.io.FixedLenFeature([], tf.int64),\n",
    "        'sex'                          : tf.io.FixedLenFeature([], tf.int64),\n",
    "        'age_approx'                   : tf.io.FixedLenFeature([], tf.int64),\n",
    "        'anatom_site_general_challenge': tf.io.FixedLenFeature([], tf.int64),\n",
    "        'diagnosis'                    : tf.io.FixedLenFeature([], tf.int64),\n",
    "        'target'                       : tf.io.FixedLenFeature([], tf.int64)\n",
    "    }           \n",
    "    example = tf.io.parse_single_example(example, tfrec_format)\n",
    "    return example['image'], example['target']\n",
    "\n",
    "\n",
    "def read_unlabeled_tfrecord(example):\n",
    "    tfrec_format = {\n",
    "        'image'                        : tf.io.FixedLenFeature([], tf.string),\n",
    "        'sex'                          : tf.io.FixedLenFeature([], tf.int64),\n",
    "        'age_approx'                   : tf.io.FixedLenFeature([], tf.int64),\n",
    "        'anatom_site_general_challenge': tf.io.FixedLenFeature([], tf.int64),\n",
    "        'image_name'                   : tf.io.FixedLenFeature([], tf.string),\n",
    "    }\n",
    "    example = tf.io.parse_single_example(example, tfrec_format)\n",
    "    meta = tf.cast(tf.stack([example['sex'], example['age_approx']], 0), tf.float32)\n",
    "    return example['image'], meta, example['image_name']\n",
    "\n",
    " \n",
    "def prepare_image(img, dim=256):    \n",
    "    img = tf.image.decode_jpeg(img, channels=3)\n",
    "    img = tf.cast(img, tf.float32) / 255.0                      \n",
    "    img = tf.reshape(img, [dim,dim, 3])\n",
    "            \n",
    "    return img\n",
    "\n",
    "\n",
    "def count_data_items(filenames):\n",
    "    n = [int(re.compile(r\"-([0-9]*)\\.\").search(filename).group(1)) \n",
    "         for filename in filenames]\n",
    "    return np.sum(n)"
   ]
  },
  {
   "cell_type": "code",
   "execution_count": 3,
   "metadata": {},
   "outputs": [],
   "source": [
    "train_files = tf.io.gfile.glob(\"../input/melanoma-256x256/train*.tfrec\")\n",
    "test_files = tf.io.gfile.glob(\"../input/melanoma-256x256/test*.tfrec\")"
   ]
  },
  {
   "cell_type": "code",
   "execution_count": 4,
   "metadata": {},
   "outputs": [],
   "source": [
    "oof = pd.read_csv(\"../input/triple-stratified-kfold-with-tfrecords/oof.csv\") # the kernel out of fold prediction\n",
    "base_train_data = pd.read_csv(\"../input/melanoma-256x256/train.csv\")"
   ]
  },
  {
   "cell_type": "markdown",
   "execution_count": null,
   "metadata": {},
   "source": [
    "Since we use XGBoost to estimate the '*testiness*', we need to preprocess the images.\n",
    "\n",
    "We will use metadata (age and sex) and a few statistics of the images\n",
    "* average and standard deviation\n",
    "* channel-wise average and standard deviation\n",
    "\n",
    "The target of our classification task will simply be $0$ for images from the train data and $1$ for the ones from the test set."
   ]
  },
  {
   "cell_type": "code",
   "execution_count": 5,
   "metadata": {},
   "outputs": [
    {
     "name": "stderr",
     "output_type": "stream",
     "text": [
      "32692it [00:46, 696.63it/s]\n",
      "32692it [00:48, 672.77it/s]\n",
      "10982it [00:27, 398.02it/s]\n",
      "10982it [00:16, 685.88it/s]\n"
     ]
    }
   ],
   "source": [
    "ds = tf.data.TFRecordDataset(train_files).map(read_unlabeled_tfrecord, num_parallel_calls=AUTO)\n",
    "ds = ds.map(lambda i, m, n: (prepare_image(i), m, n), num_parallel_calls=AUTO)\n",
    "ds = ds.batch(128)\n",
    "ds = ds.map(lambda i, m, n: (K.concatenate([m, K.reshape(K.mean(i, [1, 2, 3]), [-1, 1]), K.mean(i, [1, 2]), K.std(i, [1, 2])], axis=1), n), num_parallel_calls=AUTO)\n",
    "ds = ds.prefetch(AUTO)\n",
    "data_train = np.array([i for i, n in tqdm(ds.unbatch())])\n",
    "name_train = np.array([n.numpy().decode('utf-8') for i, n in tqdm(ds.unbatch())])\n",
    "\n",
    "ds = tf.data.TFRecordDataset(test_files).map(read_unlabeled_tfrecord, num_parallel_calls=AUTO)\n",
    "ds = ds.map(lambda i, m, n: (prepare_image(i), m, n), num_parallel_calls=AUTO)\n",
    "ds = ds.batch(128)\n",
    "ds = ds.map(lambda i, m, n: (K.concatenate([m, K.reshape(K.mean(i, [1, 2, 3]), [-1, 1]), K.mean(i, [1, 2]), K.std(i, [1, 2])]), n), num_parallel_calls=AUTO)\n",
    "ds = ds.prefetch(AUTO)\n",
    "data_test = np.array([i for i, n in tqdm(ds.unbatch())])\n",
    "name_test = np.array([n.numpy().decode('utf-8') for i, n in tqdm(ds.unbatch())])"
   ]
  },
  {
   "cell_type": "code",
   "execution_count": 6,
   "metadata": {},
   "outputs": [],
   "source": [
    "y = np.concatenate([np.zeros(data_train.shape[0]), np.ones(data_test.shape[0])], 0)\n",
    "x = np.concatenate([data_train, data_test])\n",
    "name = np.concatenate([name_train, name_test])"
   ]
  },
  {
   "cell_type": "markdown",
   "execution_count": null,
   "metadata": {},
   "source": [
    "### Minimal EDA"
   ]
  },
  {
   "cell_type": "code",
   "execution_count": 7,
   "metadata": {},
   "outputs": [
    {
     "name": "stderr",
     "output_type": "stream",
     "text": [
      "/opt/conda/lib/python3.7/site-packages/ipykernel_launcher.py:7: RuntimeWarning: divide by zero encountered in log\n",
      "  import sys\n",
      "/opt/conda/lib/python3.7/site-packages/ipykernel_launcher.py:12: RuntimeWarning: divide by zero encountered in log\n",
      "  if sys.path[0] == '':\n"
     ]
    },
    {
     "data": {
      "image/png": "[encoded data removed]",
      "text/plain": [
       "<Figure size 1440x360 with 3 Axes>"
      ]
     },
     "metadata": {
      "needs_background": "light"
     },
     "output_type": "display_data"
    }
   ],
   "source": [
    "# train-test data distribution based on features (0: sex, 1: age, 2: img-avg, 3: img-std, 4..6: cw img-avg, 7..9: cw img-std)\n",
    "i, j = 2, 3\n",
    "bins = 50\n",
    "plt.figure(figsize=(20, 5))\n",
    "plt.subplot(1, 3, 1)\n",
    "c0, a0, b0, _ = plt.hist2d(x[y == 0, i], x[y == 0, j], bins=bins, density=True)\n",
    "plt.pcolormesh(a0, b0, np.log(0 + c0).T);\n",
    "plt.title(\"Training - Log density\"); plt.xlabel(\"Color avg\"); plt.ylabel(\"Color std\")\n",
    "plt.subplot(1, 3, 2)\n",
    "plt.title(\"Test - Log density\"); plt.xlabel(\"Color avg\"); plt.ylabel(\"Color std\")\n",
    "c1, a1, b1, _ = plt.hist2d(x[y == 1, i], x[y == 1, j], bins=bins, density=True)\n",
    "plt.pcolormesh(a1, b1, np.log(0 + c1).T);\n",
    "plt.subplot(1, 3, 3)\n",
    "plt.title(\"Abs diff\"); plt.xlabel(\"Color avg\"); plt.ylabel(\"Color std\")\n",
    "plt.pcolormesh(a0, b0, np.abs(c0 - c1).T);"
   ]
  },
  {
   "cell_type": "markdown",
   "execution_count": null,
   "metadata": {},
   "source": [
    "We see that is sufficient to consider the average and the standard deviation of the images to see a clear difference between the train and the test distributions"
   ]
  },
  {
   "cell_type": "markdown",
   "execution_count": null,
   "metadata": {},
   "source": [
    "### Example of training"
   ]
  },
  {
   "cell_type": "code",
   "execution_count": 8,
   "metadata": {},
   "outputs": [
    {
     "data": {
      "image/png": "[encoded data removed]",
      "text/plain": [
       "<Figure size 432x288 with 1 Axes>"
      ]
     },
     "metadata": {
      "needs_background": "light"
     },
     "output_type": "display_data"
    }
   ],
   "source": [
    "idxT, idxV = list(model_selection.KFold(5, shuffle=True).split(x, y))[0]\n",
    "model = xgboost.XGBClassifier()\n",
    "model.fit(x[idxT], y[idxT], eval_set=[(x[idxT], y[idxT]), (x[idxV], y[idxV])], eval_metric='auc', verbose=0)\n",
    "plt.plot(model.evals_result_['validation_0']['auc'], color='tab:blue')\n",
    "plt.plot(model.evals_result_['validation_1']['auc'], color='tab:blue', linestyle=\":\")\n",
    "plt.xlabel('n_estimators')\n",
    "plt.ylabel('AUC');"
   ]
  },
  {
   "cell_type": "markdown",
   "execution_count": null,
   "metadata": {},
   "source": [
    "Here we see that it is difficult to predict wether an image is from training or test set, but it is clearly better than random guessing"
   ]
  },
  {
   "cell_type": "markdown",
   "execution_count": null,
   "metadata": {},
   "source": [
    "### Calibration example"
   ]
  },
  {
   "cell_type": "code",
   "execution_count": 9,
   "metadata": {},
   "outputs": [
    {
     "data": {
      "image/png": "[encoded data removed]",
      "text/plain": [
       "<Figure size 432x288 with 1 Axes>"
      ]
     },
     "metadata": {
      "needs_background": "light"
     },
     "output_type": "display_data"
    }
   ],
   "source": [
    "calibrated_model = calibration.CalibratedClassifierCV(model, cv='prefit')\n",
    "xcT, xcV, ycT, ycV = model_selection.train_test_split(x[idxV], y[idxV])\n",
    "calibrated_model.fit(xcT, ycT)\n",
    "plt.plot(*calibration.calibration_curve(ycV, model.predict_proba(xcV)[:, 1], n_bins=10)[::-1], color='tab:blue', label='XGB')\n",
    "plt.plot(*calibration.calibration_curve(ycV, calibrated_model.predict_proba(xcV)[:, 1], n_bins=10)[::-1], color='tab:red', label='calibrated')\n",
    "plt.plot(plt.xlim(), plt.ylim(), color='gray', linestyle='--', label='perfect')\n",
    "plt.xlabel('Estimated probability'); plt.ylabel('True probability');\n",
    "plt.legend();"
   ]
  },
  {
   "cell_type": "markdown",
   "execution_count": null,
   "metadata": {},
   "source": [
    "In this case the calibration seems not to be very useful, so we will skip it for this time"
   ]
  },
  {
   "cell_type": "markdown",
   "execution_count": null,
   "metadata": {},
   "source": [
    "### Training"
   ]
  },
  {
   "cell_type": "code",
   "execution_count": 10,
   "metadata": {},
   "outputs": [
    {
     "name": "stdout",
     "output_type": "stream",
     "text": [
      "Rep 0 \t\tAUC  = 0.903770 \tcAUC = 0.912446\n",
      "Rep 1 \t\tAUC  = 0.903770 \tcAUC = 0.911277\n",
      "Rep 2 \t\tAUC  = 0.903770 \tcAUC = 0.912333\n",
      "Rep 3 \t\tAUC  = 0.903770 \tcAUC = 0.918961\n",
      "Rep 4 \t\tAUC  = 0.903770 \tcAUC = 0.916645\n",
      "Rep 5 \t\tAUC  = 0.903770 \tcAUC = 0.917059\n",
      "Rep 6 \t\tAUC  = 0.903770 \tcAUC = 0.911222\n",
      "Rep 7 \t\tAUC  = 0.903770 \tcAUC = 0.915431\n",
      "Rep 8 \t\tAUC  = 0.903770 \tcAUC = 0.921143\n",
      "Rep 9 \t\tAUC  = 0.903770 \tcAUC = 0.913751\n",
      "Overall \tAUC  = 0.903770 \tcAUC = 0.915113\n"
     ]
    }
   ],
   "source": [
    "NREPS = 10\n",
    "NFOLDS = 10\n",
    "df_all = []\n",
    "models = NFOLDS * [xgboost.XGBClassifier()]\n",
    "for rep in range(NREPS):\n",
    "    pid = base_train_data[['patient_id']].drop_duplicates().reset_index(drop=True)\n",
    "    folds = list(model_selection.KFold(NFOLDS, shuffle=True).split(pid))\n",
    "    df_rep = []\n",
    "    for fold, (pidIdxT, pidIdxV) in enumerate(folds):\n",
    "        pidT, pidV = pid.iloc[pidIdxT]['patient_id'], pid.iloc[pidIdxV]['patient_id']\n",
    "        inT = base_train_data[base_train_data['patient_id'].isin(pidT)]['image_name']\n",
    "        inV = base_train_data[base_train_data['patient_id'].isin(pidV)]['image_name']\n",
    "        idxT = (pd.Series(name).isin(inT) | y == 1)\n",
    "        idxV = (pd.Series(name).isin(inV))\n",
    "        model = models[fold]\n",
    "        model.fit(x[idxT], y[idxT])\n",
    "        # calibration should go here\n",
    "        pred = model.predict_proba(x[idxV])[:, 1]\n",
    "        testiness = pred / (1 - pred) * np.mean(y[idxT] == 0) / np.mean(y[idxT] == 1)\n",
    "        df = pd.DataFrame({'rep': rep, 'image_name': name[idxV], 'is_test': y[idxV], 'is_test_pred': pred, 'testiness': testiness})\n",
    "        df_rep.append(df)\n",
    "        pass\n",
    "    df_rep = pd.concat(df_rep, axis=0)\n",
    "    df = pd.merge(df_rep, oof, on='image_name')\n",
    "    score = metrics.roc_auc_score(df.target, df.pred)\n",
    "    corrected_score = metrics.roc_auc_score(df.target, df.pred, sample_weight=df.testiness)\n",
    "    print(\"Rep%2d \\t\\tAUC  = %.6f \\tcAUC = %.6f\" % (rep, score, corrected_score))\n",
    "    df_all.append(df_rep)\n",
    "    pass\n",
    "df_all = pd.concat(df_all, axis=0)\n",
    "df = pd.merge(df_all, oof, on='image_name').groupby('image_name').mean()\n",
    "score = metrics.roc_auc_score(df.target, df.pred)\n",
    "corrected_score = metrics.roc_auc_score(df.target, df.pred, sample_weight=df.testiness)\n",
    "print(\"Overall \\tAUC  = %.6f \\tcAUC = %.6f\" % (score, corrected_score))"
   ]
  },
  {
   "cell_type": "code",
   "execution_count": 11,
   "metadata": {},
   "outputs": [
    {
     "name": "stdout",
     "output_type": "stream",
     "text": [
      "KL divergence pre  = 0.1563\n",
      "KL divergence post = 0.1287\n",
      "Difference = -17.6706%\n"
     ]
    },
    {
     "data": {
      "image/png": "[encoded data removed]",
      "text/plain": [
       "<Figure size 1080x360 with 3 Axes>"
      ]
     },
     "metadata": {
      "needs_background": "light"
     },
     "output_type": "display_data"
    }
   ],
   "source": [
    "XX = pd.DataFrame({'y': y, 'x2': x[:, 2], 'x3': x[:, 3], 'image_name': name}).merge(df, on='image_name')\n",
    "plt.figure(figsize=(15, 5))\n",
    "plt.subplot(1, 3, 1)\n",
    "c0, a0, b0, _ = plt.hist2d(XX.x2[XX.y == 0], XX.x3[XX.y == 0], 50, density=True);\n",
    "plt.subplot(1, 3, 2)\n",
    "c1, a1, b1, _ = plt.hist2d(XX.x2[XX.y == 0], XX.x3[XX.y == 0], 50, density=True, weights=XX.testiness[XX.y == 0]);\n",
    "plt.subplot(1, 3, 3)\n",
    "ctest, atest, btest, _ = plt.hist2d(x[y == 1, 2], x[y == 1, 3], 50, density=True);\n",
    "kl_pre = keras.losses.kld((c0 / c0.sum()).reshape(-1), (ctest / ctest.sum()).reshape(-1)).numpy()\n",
    "kl_post = keras.losses.kld((c1 / c1.sum()).reshape(-1), (ctest / ctest.sum()).reshape(-1)).numpy()\n",
    "print(\"KL divergence pre  = %.4f\" % kl_pre)\n",
    "print(\"KL divergence post = %.4f\" % kl_post)\n",
    "print(\"Difference = %.4f%%\" % (100 * (kl_post - kl_pre) / kl_pre))"
   ]
  },
  {
   "cell_type": "code",
   "execution_count": 12,
   "metadata": {},
   "outputs": [],
   "source": [
    "df_all[['image_name', 'testiness']].groupby('image_name').mean().to_csv(\"../working/testiness.csv\")"
   ]
  },
  {
   "cell_type": "markdown",
   "execution_count": null,
   "metadata": {},
   "source": [
    "# Next steps\n",
    "\n",
    "* try a better model to estimate the '*testiness*' 😋\n",
    "* is it possible to further improve the CV estimation in the case of different support for the two distributions?\n",
    "* find a strategy to make calibration work\n",
    "* try to use a similar correction directly inside the loss function of a model"
   ]
  }
 ],
 "metadata": {
  "kernelspec": {
   "display_name": "Python 3",
   "language": "python",
   "name": "python3"
  },
  "language_info": {
   "codemirror_mode": {
    "name": "ipython",
    "version": 3
   },
   "file_extension": ".py",
   "mimetype": "text/x-python",
   "name": "python",
   "nbconvert_exporter": "python",
   "pygments_lexer": "ipython3",
   "version": "3.7.6"
  }
 },
 "nbformat": 4,
 "nbformat_minor": 4
}
